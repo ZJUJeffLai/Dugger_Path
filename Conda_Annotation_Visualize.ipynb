{
 "cells": [
  {
   "cell_type": "code",
   "execution_count": 1,
   "id": "9c237bb2",
   "metadata": {},
   "outputs": [],
   "source": [
    "import numpy as np\n",
    "from os import listdir\n",
    "from PIL import Image, ImageDraw\n",
    "import xml.etree.ElementTree as ET \n",
    "import xmltodict\n",
    "import matplotlib.pyplot as plt\n",
    "import matplotlib.image as img\n",
    "import glob\n",
    "import os\n",
    "\n",
    "from tqdm import tqdm\n",
    "import pyvips\n",
    "import pylibczi\n",
    "from pylibczi import CziScene\n",
    "import czifile\n",
    "from czifile import CziFile \n",
    "# import pyvips as vips\n",
    "\n",
    "import vips_utils\n",
    "\n",
    "\n",
    "\"\"\" Convert np array to vips \"\"\"\n",
    "dtype_to_format = {\n",
    "    'uint8': 'uchar',\n",
    "    'int8': 'char',\n",
    "    'uint16': 'ushort',\n",
    "    'int16': 'short',\n",
    "    'uint32': 'uint',\n",
    "    'int32': 'int',\n",
    "    'float32': 'float',\n",
    "    'float64': 'double',\n",
    "    'complex64': 'complex',\n",
    "    'complex128': 'dpcomplex'\n",
    "}\n",
    "\n",
    "def numpy2vips(a):\n",
    "    height, width, bands = a.shape\n",
    "    linear = a.reshape(width * height * bands)\n",
    "    vi = pyvips.Image.new_from_memory(linear.data, width, height, bands,\n",
    "                                      dtype_to_format[str(a.dtype)])\n",
    "    return vi\n",
    "\n",
    "CZI_PATH = '../data/Batch_01_Original_CZI_files/'\n",
    "CZ_PATH = '../data/Uploads_with_Corrections/'"
   ]
  },
  {
   "cell_type": "code",
   "execution_count": 2,
   "id": "bf7bf9c0",
   "metadata": {},
   "outputs": [],
   "source": [
    "def extract_rectangles_cz(PATH, metadata_xml):\n",
    "    \"\"\"\n",
    "    Method to extract the coordinates of rectangles drawn on the image \n",
    "    \n",
    "    input: PATH and metadata name \n",
    "    \n",
    "    \n",
    "    return: \n",
    "    rectangles: dictionnary\n",
    "    \n",
    "    {\n",
    "    'rectangle_1': [Left, Top, Width, Height],\n",
    "    'rectangle_2': [...],\n",
    "    \n",
    "    ...}\n",
    "    \n",
    "    \"\"\"\n",
    "    \n",
    "    rectangles = {}\n",
    "    \n",
    "    metadata_name = PATH + metadata_xml\n",
    "    doc = xmltodict.parse(open(metadata_name, 'r', encoding='utf-8').read())\n",
    "    dic_rectangle = doc['GraphicsDocument']['Elements']['Rectangle']\n",
    "\n",
    "    for rect in range(0, len(dic_rectangle)):\n",
    "        geometry = dic_rectangle[rect]['Geometry']\n",
    "        rectangles['rectangle_{}'.format(rect)] = [geometry['Left'], geometry['Top'], geometry['Width'], geometry['Height']]\n",
    "        \n",
    "    return(rectangles)\n",
    "\n",
    "def extract_annotations_coordinates_cz(PATH, metadata_xml):\n",
    "    \"\"\"\n",
    "    Method to extract the annotations (points) drawn on the image\n",
    "    \n",
    "    input: PATH and metadata name \n",
    "    \n",
    "    return: dictionnary of annotations (X,Y)\n",
    "    \n",
    "    {\n",
    "    'annotation_1': [X_1, Y_1], \n",
    "    'annotation_1': [X_2, Y_2],\n",
    "    ...\n",
    "    }\n",
    "    \n",
    "    \"\"\"\n",
    "    \n",
    "    annotations = {}\n",
    "    \n",
    "    metadata_name = PATH + metadata_xml\n",
    "    doc = xmltodict.parse(open(metadata_name, 'r', encoding='utf-8').read())\n",
    "    dic_marker = doc['GraphicsDocument']['Elements']['Marker']\n",
    "\n",
    "    for coordinate in range(0, len(dic_marker)):\n",
    "        geometry = dic_marker[coordinate]['Geometry']\n",
    "        annotations['annotation_{}'.format(coordinate)] = [int(float(geometry['X'])), int(float(geometry['Y']))]\n",
    "\n",
    "    return(annotations)\n",
    "\n",
    "def extract_scaling_factor_cz(PATH, metadata_xml):\n",
    "    \"\"\"\n",
    "    Extract the scaling factor \n",
    "    \n",
    "    input: PATH and metadata name \n",
    "    return: float \n",
    "    \"\"\"\n",
    "    \n",
    "    metadata_name = PATH + metadata_xml\n",
    "    doc = xmltodict.parse(open(metadata_name, 'r', encoding='utf-8').read())\n",
    "\n",
    "    scaling_factor = doc['GraphicsDocument']['Scaling']['Items']['Distance'][0]['Value']\n",
    "    scaling_factor = float(scaling_factor)\n",
    "    \n",
    "    return(scaling_factor)"
   ]
  },
  {
   "cell_type": "code",
   "execution_count": 3,
   "id": "9c11f102",
   "metadata": {},
   "outputs": [],
   "source": [
    "filenames = ['1-102-Temporal_AT8.czi',\n",
    " '1-154-Temporal_AT8.czi',\n",
    "#  '1-209-Temporal_AT8.czi',\n",
    "#  '1-225-Temporal_AT8.czi',\n",
    "#  '1-254-Temporal_AT8.czi',\n",
    " '1-271-Temporal_AT8.czi',\n",
    "#  '1-290-Temporal_AT8.czi',\n",
    " '1-297-Temporal_AT8.czi',\n",
    " '1-466-Temporal_AT8.czi',\n",
    " '1-516-Temporal_AT8.czi',\n",
    "#  '1-573-Temporal_AT8.czi',\n",
    " '1-621-Temporal_AT8.czi',\n",
    " '1-693-Temporal_AT8.czi',\n",
    " '1-695-Temporal_AT8.czi',\n",
    " '1-717-Temporal_AT8.czi',\n",
    "#  '1-751-Temporal_AT8.czi',\n",
    "#  '1-755-Temporal_AT8.czi',\n",
    " '1-756-Temporal_AT8.czi',\n",
    "#  '1-838-Temporal_AT8.czi',\n",
    " '1-907-Temporal_AT8.czi',\n",
    " '1-923-Temporal_AT8.czi',\n",
    " '1-960-Temporal_AT8.czi']"
   ]
  },
  {
   "cell_type": "code",
   "execution_count": 4,
   "id": "aac22163",
   "metadata": {},
   "outputs": [
    {
     "data": {
      "text/plain": [
       "['1-923-Temporal_AT8.czi', '1-960-Temporal_AT8.czi']"
      ]
     },
     "execution_count": 4,
     "metadata": {},
     "output_type": "execute_result"
    }
   ],
   "source": [
    "filenames = filenames[12:]\n",
    "filenames"
   ]
  },
  {
   "cell_type": "code",
   "execution_count": null,
   "id": "d6eb7b44",
   "metadata": {},
   "outputs": [
    {
     "name": "stderr",
     "output_type": "stream",
     "text": [
      "\r",
      "  0%|          | 0/2 [00:00<?, ?it/s]"
     ]
    },
    {
     "name": "stdout",
     "output_type": "stream",
     "text": [
      "(99449, 177342, 3)\n",
      "width: 17734 height: 9945\n",
      "original done\n",
      "rectangles done!\n"
     ]
    },
    {
     "name": "stderr",
     "output_type": "stream",
     "text": [
      "\r",
      " 50%|█████     | 1/2 [22:53<22:53, 1373.37s/it]"
     ]
    },
    {
     "name": "stdout",
     "output_type": "stream",
     "text": [
      "coordinate done!\n"
     ]
    },
    {
     "name": "stderr",
     "output_type": "stream",
     "text": [
      " 50%|█████     | 1/2 [26:34<26:34, 1594.58s/it]\n"
     ]
    },
    {
     "ename": "ValueError",
     "evalue": "cannot reshape array of size 137069032464 into shape (103608,220493,3)",
     "output_type": "error",
     "traceback": [
      "\u001b[0;31m---------------------------------------------------------------------------\u001b[0m",
      "\u001b[0;31mValueError\u001b[0m                                Traceback (most recent call last)",
      "\u001b[0;32m<ipython-input-5-127be723034d>\u001b[0m in \u001b[0;36m<module>\u001b[0;34m\u001b[0m\n\u001b[1;32m     10\u001b[0m     \u001b[0mwidth\u001b[0m \u001b[0;34m=\u001b[0m \u001b[0mnumpy_array\u001b[0m\u001b[0;34m.\u001b[0m\u001b[0mshape\u001b[0m\u001b[0;34m[\u001b[0m\u001b[0;36m3\u001b[0m\u001b[0;34m]\u001b[0m\u001b[0;34m\u001b[0m\u001b[0;34m\u001b[0m\u001b[0m\n\u001b[1;32m     11\u001b[0m     \u001b[0mchannels\u001b[0m \u001b[0;34m=\u001b[0m \u001b[0mnumpy_array\u001b[0m\u001b[0;34m.\u001b[0m\u001b[0mshape\u001b[0m\u001b[0;34m[\u001b[0m\u001b[0;36m4\u001b[0m\u001b[0;34m]\u001b[0m\u001b[0;34m\u001b[0m\u001b[0;34m\u001b[0m\u001b[0m\n\u001b[0;32m---> 12\u001b[0;31m     \u001b[0mnumpy_array_reshaped\u001b[0m \u001b[0;34m=\u001b[0m \u001b[0mnumpy_array\u001b[0m\u001b[0;34m.\u001b[0m\u001b[0mreshape\u001b[0m\u001b[0;34m(\u001b[0m\u001b[0;34m(\u001b[0m\u001b[0mheight\u001b[0m\u001b[0;34m,\u001b[0m \u001b[0mwidth\u001b[0m\u001b[0;34m,\u001b[0m \u001b[0mchannels\u001b[0m\u001b[0;34m)\u001b[0m\u001b[0;34m)\u001b[0m\u001b[0;34m\u001b[0m\u001b[0;34m\u001b[0m\u001b[0m\n\u001b[0m\u001b[1;32m     13\u001b[0m     \u001b[0mprint\u001b[0m\u001b[0;34m(\u001b[0m\u001b[0mnumpy_array_reshaped\u001b[0m\u001b[0;34m.\u001b[0m\u001b[0mshape\u001b[0m\u001b[0;34m)\u001b[0m\u001b[0;34m\u001b[0m\u001b[0;34m\u001b[0m\u001b[0m\n\u001b[1;32m     14\u001b[0m     \u001b[0mvips\u001b[0m \u001b[0;34m=\u001b[0m \u001b[0mnumpy2vips\u001b[0m\u001b[0;34m(\u001b[0m\u001b[0mnumpy_array_reshaped\u001b[0m\u001b[0;34m)\u001b[0m\u001b[0;34m\u001b[0m\u001b[0;34m\u001b[0m\u001b[0m\n",
      "\u001b[0;31mValueError\u001b[0m: cannot reshape array of size 137069032464 into shape (103608,220493,3)"
     ]
    }
   ],
   "source": [
    "for filename in tqdm(filenames):\n",
    "#     filename = filenames[i]\n",
    "    name = filename.split('.')[0]\n",
    "    img = czifile.imread(CZI_PATH + filename)\n",
    "    \n",
    "    numpy_array = np.array(img, dtype = np.uint8)\n",
    "    scenes = numpy_array.shape[0]\n",
    "    time = numpy_array.shape[1]\n",
    "    height = numpy_array.shape[2]\n",
    "    width = numpy_array.shape[3]\n",
    "    channels = numpy_array.shape[4]\n",
    "    numpy_array_reshaped = numpy_array.reshape((height, width, channels))\n",
    "    print(numpy_array_reshaped.shape) \n",
    "    vips = numpy2vips(numpy_array_reshaped) \n",
    "    \n",
    "    vips_resized = vips.resize(0.1)\n",
    "    width = vips_resized.width\n",
    "    height = vips_resized.height\n",
    "    print('width:', width, 'height:', height)\n",
    "\n",
    "    plt.rcParams['savefig.dpi'] = 800\n",
    "    plt.rcParams['figure.dpi'] = 800\n",
    "    plt.axis('off')\n",
    "    vips_utils.show_vips(vips_resized, show=False)\n",
    "    full_address = './Visualization/' + name + '.png'\n",
    "    plt.savefig(full_address, dpi=400)\n",
    "    del vips_resized, full_address \n",
    "    print('original done')\n",
    "    \n",
    "    vips_resized = vips.resize(0.1)\n",
    "    metadata_name = name + '.cz'\n",
    "    rectangles = extract_rectangles_cz(CZ_PATH, metadata_name)\n",
    "    annotations = extract_annotations_coordinates_cz(CZ_PATH, metadata_name)\n",
    "    scaling_factor = 0.1\n",
    "    color = [255,0,0]\n",
    "    for i in range(0, len(rectangles)):\n",
    "        coord = rectangles['rectangle_{}'.format(i)]\n",
    "        left = int(float(coord[0])) * scaling_factor\n",
    "        top = int(float(coord[1])) * scaling_factor\n",
    "        width = int(float(coord[2])) * scaling_factor\n",
    "        height = int(float(coord[3])) * scaling_factor\n",
    "        vips_resized = vips_resized.draw_rect(color, left, top, width, height, fill=True)\n",
    "    plt.axis('off')\n",
    "    vips_utils.show_vips(vips_resized, show=False)\n",
    "    full_address = './Visualization/' + name + '_rec.png'\n",
    "    plt.savefig(full_address, dpi=400)\n",
    "    del vips_resized, full_address\n",
    "    print('rectangles done!')\n",
    "    \n",
    "    vips_resized = vips.resize(0.1)\n",
    "    for i in range(0, len(annotations)):\n",
    "        coord = annotations['annotation_{}'.format(i)]\n",
    "        x = coord[0]*scaling_factor\n",
    "        y = coord[1]*scaling_factor\n",
    "        #print(x, y)\n",
    "        vips_resized = vips_resized.draw_circle(color, x, y, 50, fill=True)\n",
    "    plt.axis('off')\n",
    "    vips_utils.show_vips(vips_resized, show=False)\n",
    "    full_address = './Visualization/' + name + '_coo.png'\n",
    "    plt.savefig(full_address, dpi=400)\n",
    "    del vips_resized, full_address \n",
    "    print('coordinate done!')\n",
    "    del vips \n",
    "    \n",
    "#     scaling_factor = extract_scaling_factor_cz(CZ_PATH, metadata_name)\n",
    "    "
   ]
  },
  {
   "cell_type": "code",
   "execution_count": null,
   "id": "b15438e6",
   "metadata": {},
   "outputs": [],
   "source": []
  },
  {
   "cell_type": "code",
   "execution_count": null,
   "id": "5fca32ff",
   "metadata": {},
   "outputs": [],
   "source": []
  }
 ],
 "metadata": {
  "kernelspec": {
   "display_name": "Python 3",
   "language": "python",
   "name": "python3"
  },
  "language_info": {
   "codemirror_mode": {
    "name": "ipython",
    "version": 3
   },
   "file_extension": ".py",
   "mimetype": "text/x-python",
   "name": "python",
   "nbconvert_exporter": "python",
   "pygments_lexer": "ipython3",
   "version": "3.7.10"
  }
 },
 "nbformat": 4,
 "nbformat_minor": 5
}

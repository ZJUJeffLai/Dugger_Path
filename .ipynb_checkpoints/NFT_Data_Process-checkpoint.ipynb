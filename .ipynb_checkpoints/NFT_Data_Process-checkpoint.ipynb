{
 "cells": [
  {
   "cell_type": "code",
   "execution_count": 2,
   "id": "95945cf6",
   "metadata": {},
   "outputs": [],
   "source": [
    "import numpy as np\n",
    "from os import listdir\n",
    "from PIL import Image, ImageDraw\n",
    "import xml.etree.ElementTree as ET \n",
    "import xmltodict\n",
    "import matplotlib.pyplot as plt\n",
    "import matplotlib.image as img\n",
    "import glob\n",
    "import os\n",
    "\n",
    "import pyvips\n",
    "import pylibczi\n",
    "from pylibczi import CziScene\n",
    "import czifile\n",
    "from czifile import CziFile \n",
    "# import pyvips as vips\n",
    "\n",
    "import vips_utils\n",
    "\n",
    "\n",
    "\"\"\" Convert np array to vips \"\"\"\n",
    "dtype_to_format = {\n",
    "    'uint8': 'uchar',\n",
    "    'int8': 'char',\n",
    "    'uint16': 'ushort',\n",
    "    'int16': 'short',\n",
    "    'uint32': 'uint',\n",
    "    'int32': 'int',\n",
    "    'float32': 'float',\n",
    "    'float64': 'double',\n",
    "    'complex64': 'complex',\n",
    "    'complex128': 'dpcomplex'\n",
    "}\n",
    "\n",
    "def numpy2vips(a):\n",
    "    height, width, bands = a.shape\n",
    "    linear = a.reshape(width * height * bands)\n",
    "    vi = pyvips.Image.new_from_memory(linear.data, width, height, bands,\n",
    "                                      dtype_to_format[str(a.dtype)])\n",
    "    return vi"
   ]
  },
  {
   "cell_type": "code",
   "execution_count": 3,
   "id": "5fb9dfa6",
   "metadata": {},
   "outputs": [],
   "source": [
    "CZI_PATH = '../data/Batch_01_Original_CZI_files/'\n",
    "CZ_PATH = '../data/Uploads_with_Corrections/'"
   ]
  },
  {
   "cell_type": "code",
   "execution_count": 4,
   "id": "fc7afa73",
   "metadata": {},
   "outputs": [
    {
     "data": {
      "text/plain": [
       "['1-102-Temporal_AT8.czi',\n",
       " '1-154-Temporal_AT8.czi',\n",
       " '1-209-Temporal_AT8.czi',\n",
       " '1-225-Temporal_AT8.czi',\n",
       " '1-254-Temporal_AT8.czi',\n",
       " '1-271-Temporal_AT8.czi',\n",
       " '1-290-Temporal_AT8.czi',\n",
       " '1-297-Temporal_AT8.czi',\n",
       " '1-466-Temporal_AT8.czi',\n",
       " '1-516-Temporal_AT8.czi',\n",
       " '1-573-Temporal_AT8.czi',\n",
       " '1-621-Temporal_AT8.czi',\n",
       " '1-693-Temporal_AT8.czi',\n",
       " '1-695-Temporal_AT8.czi',\n",
       " '1-717-Temporal_AT8.czi',\n",
       " '1-751-Temporal_AT8.czi',\n",
       " '1-755-Temporal_AT8.czi',\n",
       " '1-756-Temporal_AT8.czi',\n",
       " '1-838-Temporal_AT8.czi',\n",
       " '1-907-Temporal_AT8.czi',\n",
       " '1-923-Temporal_AT8.czi',\n",
       " '1-960-Temporal_AT8.czi']"
      ]
     },
     "execution_count": 4,
     "metadata": {},
     "output_type": "execute_result"
    }
   ],
   "source": [
    "filenames = sorted(os.listdir(CZI_PATH))\n",
    "filenames"
   ]
  },
  {
   "cell_type": "code",
   "execution_count": 5,
   "id": "63b50c5b",
   "metadata": {},
   "outputs": [],
   "source": [
    "filenames = ['1-102-Temporal_AT8.czi',\n",
    " '1-154-Temporal_AT8.czi',\n",
    " '1-209-Temporal_AT8.czi',\n",
    " '1-225-Temporal_AT8.czi',\n",
    "#  '1-254-Temporal_AT8.czi',\n",
    " '1-271-Temporal_AT8.czi',\n",
    " '1-290-Temporal_AT8.czi',\n",
    " '1-297-Temporal_AT8.czi',\n",
    " '1-466-Temporal_AT8.czi',\n",
    " '1-516-Temporal_AT8.czi',\n",
    " '1-573-Temporal_AT8.czi',\n",
    " '1-621-Temporal_AT8.czi',\n",
    " '1-693-Temporal_AT8.czi',\n",
    " '1-695-Temporal_AT8.czi',\n",
    " '1-717-Temporal_AT8.czi',\n",
    " '1-751-Temporal_AT8.czi',\n",
    " '1-755-Temporal_AT8.czi',\n",
    " '1-756-Temporal_AT8.czi',\n",
    " '1-838-Temporal_AT8.czi',\n",
    " '1-907-Temporal_AT8.czi',\n",
    " '1-923-Temporal_AT8.czi',\n",
    " '1-960-Temporal_AT8.czi']"
   ]
  },
  {
   "cell_type": "code",
   "execution_count": 5,
   "id": "a2dd0900",
   "metadata": {},
   "outputs": [
    {
     "name": "stdout",
     "output_type": "stream",
     "text": [
      "1-102-Temporal_AT8.czi\n",
      "1-102-Temporal_AT8.czi (1, 1, 116676, 115406, 3)\n",
      "1-154-Temporal_AT8.czi\n",
      "1-154-Temporal_AT8.czi (1, 1, 147978, 259435, 3)\n",
      "1-209-Temporal_AT8.czi\n",
      "Unable to allocate 481. GiB for an array with shape (5, 1, 119985, 286828, 3) and data type uint8\n",
      "1-225-Temporal_AT8.czi\n",
      "Unable to allocate 248. GiB for an array with shape (2, 1, 153387, 289696, 3) and data type uint8\n",
      "1-254-Temporal_AT8.czi\n",
      "not a ZISRAW segment\n",
      "1-271-Temporal_AT8.czi\n",
      "1-271-Temporal_AT8.czi (1, 1, 136097, 135564, 3)\n",
      "1-290-Temporal_AT8.czi\n",
      "Unable to allocate 234. GiB for an array with shape (3, 1, 116733, 239283, 3) and data type uint8\n",
      "1-297-Temporal_AT8.czi\n",
      "1-297-Temporal_AT8.czi (1, 1, 195271, 240746, 3)\n",
      "1-466-Temporal_AT8.czi\n",
      "1-466-Temporal_AT8.czi (1, 1, 176073, 299777, 3)\n",
      "1-516-Temporal_AT8.czi\n",
      "1-516-Temporal_AT8.czi (1, 1, 144670, 230657, 3)\n",
      "1-573-Temporal_AT8.czi\n",
      "1-573-Temporal_AT8.czi (1, 1, 116557, 95263, 3)\n",
      "1-621-Temporal_AT8.czi\n",
      "1-621-Temporal_AT8.czi (1, 1, 99385, 147110, 3)\n",
      "1-693-Temporal_AT8.czi\n",
      "1-693-Temporal_AT8.czi (1, 1, 156565, 106768, 3)\n",
      "1-695-Temporal_AT8.czi\n",
      "1-695-Temporal_AT8.czi (2, 1, 152276, 154294, 3)\n",
      "1-717-Temporal_AT8.czi\n",
      "1-717-Temporal_AT8.czi (1, 1, 186734, 281050, 3)\n",
      "1-751-Temporal_AT8.czi\n",
      "Unable to allocate 277. GiB for an array with shape (2, 1, 190182, 260818, 3) and data type uint8\n",
      "1-755-Temporal_AT8.czi\n",
      "Unable to allocate 366. GiB for an array with shape (3, 1, 177165, 246462, 3) and data type uint8\n",
      "1-756-Temporal_AT8.czi\n",
      "1-756-Temporal_AT8.czi (1, 1, 204056, 200396, 3)\n",
      "1-838-Temporal_AT8.czi\n",
      "Unable to allocate 300. GiB for an array with shape (3, 1, 164167, 217711, 3) and data type uint8\n",
      "1-907-Temporal_AT8.czi\n",
      "1-907-Temporal_AT8.czi (1, 1, 146885, 167283, 3)\n",
      "1-923-Temporal_AT8.czi\n",
      "1-923-Temporal_AT8.czi (1, 1, 99449, 177342, 3)\n",
      "1-960-Temporal_AT8.czi\n",
      "1-960-Temporal_AT8.czi (2, 1, 103608, 220493, 3)\n"
     ]
    }
   ],
   "source": [
    "for filename in filenames:\n",
    "    try:\n",
    "        print(filename)\n",
    "        img = czifile.imread(CZI_PATH + filename)\n",
    "        print(filename, img.shape)\n",
    "        del img\n",
    "    except Exception as e:\n",
    "        print(e)\n",
    "    continue\n",
    "\n",
    "    "
   ]
  },
  {
   "cell_type": "code",
   "execution_count": 6,
   "id": "9339c77b",
   "metadata": {},
   "outputs": [
    {
     "ename": "MemoryError",
     "evalue": "Unable to allocate 277. GiB for an array with shape (2, 1, 190182, 260818, 3) and data type uint8",
     "output_type": "error",
     "traceback": [
      "\u001b[0;31m---------------------------------------------------------------------------\u001b[0m",
      "\u001b[0;31mMemoryError\u001b[0m                               Traceback (most recent call last)",
      "\u001b[0;32m<ipython-input-6-495eb892f4f3>\u001b[0m in \u001b[0;36m<module>\u001b[0;34m\u001b[0m\n\u001b[1;32m      1\u001b[0m \u001b[0mimage\u001b[0m \u001b[0;34m=\u001b[0m \u001b[0;34m'1-751-Temporal_AT8.czi'\u001b[0m\u001b[0;34m\u001b[0m\u001b[0;34m\u001b[0m\u001b[0m\n\u001b[0;32m----> 2\u001b[0;31m \u001b[0mimg\u001b[0m \u001b[0;34m=\u001b[0m \u001b[0mczifile\u001b[0m\u001b[0;34m.\u001b[0m\u001b[0mimread\u001b[0m\u001b[0;34m(\u001b[0m\u001b[0mCZI_PATH\u001b[0m \u001b[0;34m+\u001b[0m \u001b[0mimage\u001b[0m\u001b[0;34m)\u001b[0m\u001b[0;34m\u001b[0m\u001b[0;34m\u001b[0m\u001b[0m\n\u001b[0m\u001b[1;32m      3\u001b[0m \u001b[0mprint\u001b[0m\u001b[0;34m(\u001b[0m\u001b[0mimg\u001b[0m\u001b[0;34m.\u001b[0m\u001b[0mshape\u001b[0m\u001b[0;34m)\u001b[0m\u001b[0;34m\u001b[0m\u001b[0;34m\u001b[0m\u001b[0m\n",
      "\u001b[0;32m/cache/lzhengfe/anaconda3/envs/vips/lib/python3.7/site-packages/czifile/czifile.py\u001b[0m in \u001b[0;36mimread\u001b[0;34m(filename, *args, **kwargs)\u001b[0m\n\u001b[1;32m    219\u001b[0m     \"\"\"\n\u001b[1;32m    220\u001b[0m     \u001b[0;32mwith\u001b[0m \u001b[0mCziFile\u001b[0m\u001b[0;34m(\u001b[0m\u001b[0mfilename\u001b[0m\u001b[0;34m)\u001b[0m \u001b[0;32mas\u001b[0m \u001b[0mczi\u001b[0m\u001b[0;34m:\u001b[0m\u001b[0;34m\u001b[0m\u001b[0;34m\u001b[0m\u001b[0m\n\u001b[0;32m--> 221\u001b[0;31m         \u001b[0mresult\u001b[0m \u001b[0;34m=\u001b[0m \u001b[0mczi\u001b[0m\u001b[0;34m.\u001b[0m\u001b[0masarray\u001b[0m\u001b[0;34m(\u001b[0m\u001b[0;34m*\u001b[0m\u001b[0margs\u001b[0m\u001b[0;34m,\u001b[0m \u001b[0;34m**\u001b[0m\u001b[0mkwargs\u001b[0m\u001b[0;34m)\u001b[0m\u001b[0;34m\u001b[0m\u001b[0;34m\u001b[0m\u001b[0m\n\u001b[0m\u001b[1;32m    222\u001b[0m     \u001b[0;32mreturn\u001b[0m \u001b[0mresult\u001b[0m\u001b[0;34m\u001b[0m\u001b[0;34m\u001b[0m\u001b[0m\n\u001b[1;32m    223\u001b[0m \u001b[0;34m\u001b[0m\u001b[0m\n",
      "\u001b[0;32m/cache/lzhengfe/anaconda3/envs/vips/lib/python3.7/site-packages/czifile/czifile.py\u001b[0m in \u001b[0;36masarray\u001b[0;34m(self, resize, order, out, max_workers)\u001b[0m\n\u001b[1;32m    441\u001b[0m \u001b[0;34m\u001b[0m\u001b[0m\n\u001b[1;32m    442\u001b[0m         \"\"\"\n\u001b[0;32m--> 443\u001b[0;31m         \u001b[0mout\u001b[0m \u001b[0;34m=\u001b[0m \u001b[0mcreate_output\u001b[0m\u001b[0;34m(\u001b[0m\u001b[0mout\u001b[0m\u001b[0;34m,\u001b[0m \u001b[0mself\u001b[0m\u001b[0;34m.\u001b[0m\u001b[0mshape\u001b[0m\u001b[0;34m,\u001b[0m \u001b[0mself\u001b[0m\u001b[0;34m.\u001b[0m\u001b[0mdtype\u001b[0m\u001b[0;34m)\u001b[0m\u001b[0;34m\u001b[0m\u001b[0;34m\u001b[0m\u001b[0m\n\u001b[0m\u001b[1;32m    444\u001b[0m \u001b[0;34m\u001b[0m\u001b[0m\n\u001b[1;32m    445\u001b[0m         \u001b[0;32mif\u001b[0m \u001b[0mmax_workers\u001b[0m \u001b[0;32mis\u001b[0m \u001b[0;32mNone\u001b[0m\u001b[0;34m:\u001b[0m\u001b[0;34m\u001b[0m\u001b[0;34m\u001b[0m\u001b[0m\n",
      "\u001b[0;32m/cache/lzhengfe/anaconda3/envs/vips/lib/python3.7/site-packages/tifffile/tifffile.py\u001b[0m in \u001b[0;36mcreate_output\u001b[0;34m(out, shape, dtype, mode, suffix)\u001b[0m\n\u001b[1;32m  15703\u001b[0m     \"\"\"\n\u001b[1;32m  15704\u001b[0m     \u001b[0;32mif\u001b[0m \u001b[0mout\u001b[0m \u001b[0;32mis\u001b[0m \u001b[0;32mNone\u001b[0m\u001b[0;34m:\u001b[0m\u001b[0;34m\u001b[0m\u001b[0;34m\u001b[0m\u001b[0m\n\u001b[0;32m> 15705\u001b[0;31m         \u001b[0;32mreturn\u001b[0m \u001b[0mnumpy\u001b[0m\u001b[0;34m.\u001b[0m\u001b[0mzeros\u001b[0m\u001b[0;34m(\u001b[0m\u001b[0mshape\u001b[0m\u001b[0;34m,\u001b[0m \u001b[0mdtype\u001b[0m\u001b[0;34m)\u001b[0m\u001b[0;34m\u001b[0m\u001b[0;34m\u001b[0m\u001b[0m\n\u001b[0m\u001b[1;32m  15706\u001b[0m     \u001b[0;32mif\u001b[0m \u001b[0misinstance\u001b[0m\u001b[0;34m(\u001b[0m\u001b[0mout\u001b[0m\u001b[0;34m,\u001b[0m \u001b[0mnumpy\u001b[0m\u001b[0;34m.\u001b[0m\u001b[0mndarray\u001b[0m\u001b[0;34m)\u001b[0m\u001b[0;34m:\u001b[0m\u001b[0;34m\u001b[0m\u001b[0;34m\u001b[0m\u001b[0m\n\u001b[1;32m  15707\u001b[0m         \u001b[0;32mif\u001b[0m \u001b[0mproduct\u001b[0m\u001b[0;34m(\u001b[0m\u001b[0mshape\u001b[0m\u001b[0;34m)\u001b[0m \u001b[0;34m!=\u001b[0m \u001b[0mproduct\u001b[0m\u001b[0;34m(\u001b[0m\u001b[0mout\u001b[0m\u001b[0;34m.\u001b[0m\u001b[0mshape\u001b[0m\u001b[0;34m)\u001b[0m\u001b[0;34m:\u001b[0m\u001b[0;34m\u001b[0m\u001b[0;34m\u001b[0m\u001b[0m\n",
      "\u001b[0;31mMemoryError\u001b[0m: Unable to allocate 277. GiB for an array with shape (2, 1, 190182, 260818, 3) and data type uint8"
     ]
    }
   ],
   "source": [
    "image = '1-751-Temporal_AT8.czi'\n",
    "img = czifile.imread(CZI_PATH + image)\n",
    "print(img.shape)"
   ]
  },
  {
   "cell_type": "code",
   "execution_count": 12,
   "id": "00fcbda9",
   "metadata": {},
   "outputs": [
    {
     "data": {
      "text/plain": [
       "101"
      ]
     },
     "execution_count": 12,
     "metadata": {},
     "output_type": "execute_result"
    }
   ],
   "source": [
    "img[0,0,50000,80000,0]"
   ]
  },
  {
   "cell_type": "code",
   "execution_count": 5,
   "id": "aae68e23",
   "metadata": {},
   "outputs": [],
   "source": [
    "numpy_array = np.array(img, dtype = np.uint8)\n",
    "# np.where(numpy_array!=0)"
   ]
  },
  {
   "cell_type": "code",
   "execution_count": 7,
   "id": "f811890d",
   "metadata": {},
   "outputs": [
    {
     "name": "stdout",
     "output_type": "stream",
     "text": [
      "(136097, 135564, 3)\n"
     ]
    }
   ],
   "source": [
    "numpy_array = np.array(img, dtype = np.uint8)\n",
    "\n",
    "scenes = numpy_array.shape[0]\n",
    "time = numpy_array.shape[1]\n",
    "height = numpy_array.shape[2]\n",
    "width = numpy_array.shape[3]\n",
    "channels = numpy_array.shape[4]\n",
    "\n",
    "numpy_array_reshaped = numpy_array.reshape((height*scenes, width, channels))\n",
    "print(numpy_array_reshaped.shape) "
   ]
  },
  {
   "cell_type": "code",
   "execution_count": 10,
   "id": "3302887c",
   "metadata": {},
   "outputs": [
    {
     "data": {
      "text/plain": [
       "137"
      ]
     },
     "execution_count": 10,
     "metadata": {},
     "output_type": "execute_result"
    }
   ],
   "source": [
    "numpy_array_reshaped[50000,50000,1]"
   ]
  },
  {
   "cell_type": "code",
   "execution_count": 50,
   "id": "d1e1592a",
   "metadata": {},
   "outputs": [
    {
     "data": {
      "text/plain": [
       "<pyvips.Image 115406x116676 uchar, 3 bands, rgb>"
      ]
     },
     "execution_count": 50,
     "metadata": {},
     "output_type": "execute_result"
    }
   ],
   "source": [
    "vips = numpy2vips(numpy_array_reshaped) \n",
    "vips    # <pyvips.Image 95263x116557 uchar, 3 bands, rgb>"
   ]
  },
  {
   "cell_type": "code",
   "execution_count": 29,
   "id": "423a8cb5",
   "metadata": {},
   "outputs": [],
   "source": [
    "# ## Read .cz metadata files - uploaded with the .czi images\n",
    "# metadata_xml = image.split('.')[0]\n",
    "# metadata_name = metadata_xml + '.cz'\n",
    "# doc = xmltodict.parse(open(PATH_NFT + metadata_name, 'r').read())\n",
    "doc = xmltodict.parse(open(CZ_PATH + '1-102-Temporal_AT8.cz', 'r', encoding='utf-8').read())\n",
    "# doc"
   ]
  },
  {
   "cell_type": "code",
   "execution_count": 30,
   "id": "778514b1",
   "metadata": {},
   "outputs": [],
   "source": [
    "# ## Extract rectangles, annotations and scaling factor from the metadata \n",
    "def extract_rectangles_cz(PATH, metadata_xml):\n",
    "    \"\"\"\n",
    "    Method to extract the coordinates of rectangles drawn on the image \n",
    "    \n",
    "    input: PATH and metadata name \n",
    "    \n",
    "    \n",
    "    return: \n",
    "    rectangles: dictionnary\n",
    "    \n",
    "    {\n",
    "    'rectangle_1': [Left, Top, Width, Height],\n",
    "    'rectangle_2': [...],\n",
    "    \n",
    "    ...}\n",
    "    \n",
    "    \"\"\"\n",
    "    \n",
    "    rectangles = {}\n",
    "    \n",
    "    metadata_name = PATH + metadata_xml\n",
    "    doc = xmltodict.parse(open(metadata_name, 'r', encoding='utf-8').read())\n",
    "    dic_rectangle = doc['GraphicsDocument']['Elements']['Rectangle']\n",
    "\n",
    "    for rect in range(0, len(dic_rectangle)):\n",
    "        geometry = dic_rectangle[rect]['Geometry']\n",
    "        rectangles['rectangle_{}'.format(rect)] = [geometry['Left'], geometry['Top'], geometry['Width'], geometry['Height']]\n",
    "        \n",
    "    return(rectangles)"
   ]
  },
  {
   "cell_type": "code",
   "execution_count": 31,
   "id": "bdd8679d",
   "metadata": {},
   "outputs": [],
   "source": [
    "def extract_annotations_coordinates_cz(PATH, metadata_xml):\n",
    "    \"\"\"\n",
    "    Method to extract the annotations (points) drawn on the image\n",
    "    \n",
    "    input: PATH and metadata name \n",
    "    \n",
    "    return: dictionnary of annotations (X,Y)\n",
    "    \n",
    "    {\n",
    "    'annotation_1': [X_1, Y_1], \n",
    "    'annotation_1': [X_2, Y_2],\n",
    "    ...\n",
    "    }\n",
    "    \n",
    "    \"\"\"\n",
    "    \n",
    "    annotations = {}\n",
    "    \n",
    "    metadata_name = PATH + metadata_xml\n",
    "    doc = xmltodict.parse(open(metadata_name, 'r', encoding='utf-8').read())\n",
    "    dic_marker = doc['GraphicsDocument']['Elements']['Marker']\n",
    "\n",
    "    for coordinate in range(0, len(dic_marker)):\n",
    "        geometry = dic_marker[coordinate]['Geometry']\n",
    "        annotations['annotation_{}'.format(coordinate)] = [int(float(geometry['X'])), int(float(geometry['Y']))]\n",
    "\n",
    "    return(annotations)"
   ]
  },
  {
   "cell_type": "code",
   "execution_count": 32,
   "id": "dcf44dd7",
   "metadata": {},
   "outputs": [],
   "source": [
    "def extract_scaling_factor_cz(PATH, metadata_xml):\n",
    "    \"\"\"\n",
    "    Extract the scaling factor \n",
    "    \n",
    "    input: PATH and metadata name \n",
    "    return: float \n",
    "    \"\"\"\n",
    "    \n",
    "    metadata_name = PATH + metadata_xml\n",
    "    doc = xmltodict.parse(open(metadata_name, 'r', encoding='utf-8').read())\n",
    "\n",
    "    scaling_factor = doc['GraphicsDocument']['Scaling']['Items']['Distance'][0]['Value']\n",
    "    scaling_factor = float(scaling_factor)\n",
    "    \n",
    "    return(scaling_factor)"
   ]
  },
  {
   "cell_type": "code",
   "execution_count": 33,
   "id": "b9efaceb",
   "metadata": {},
   "outputs": [
    {
     "name": "stdout",
     "output_type": "stream",
     "text": [
      "3 rectangles\n",
      "288 annotations\n",
      "1.1110249786190817e-07\n"
     ]
    }
   ],
   "source": [
    "PATH_NFT = CZ_PATH\n",
    "metadata_name = '1-102-Temporal_AT8.cz'\n",
    "rectangles = extract_rectangles_cz(PATH_NFT, metadata_name)\n",
    "annotations = extract_annotations_coordinates_cz(PATH_NFT, metadata_name)\n",
    "scaling_factor = extract_scaling_factor_cz(PATH_NFT, metadata_name)\n",
    "\n",
    "print(len(rectangles), 'rectangles')\n",
    "print(len(annotations), 'annotations')\n",
    "print(scaling_factor)"
   ]
  },
  {
   "cell_type": "code",
   "execution_count": 34,
   "id": "9575bbfa",
   "metadata": {},
   "outputs": [
    {
     "name": "stdout",
     "output_type": "stream",
     "text": [
      "{'rectangle_0': ['17185.150382847707', '87276.585790600686', '21236.476417759448', '10680.909092068709'], 'rectangle_1': ['14026.024376458226', '35351.831030217305', '21236.476417759448', '10680.909092068709'], 'rectangle_2': ['33989.75600585097', '19115.767132453762', '21236.476417759448', '10680.909092068709']}\n"
     ]
    }
   ],
   "source": [
    "print(rectangles)"
   ]
  },
  {
   "cell_type": "code",
   "execution_count": 59,
   "id": "12061c28",
   "metadata": {},
   "outputs": [
    {
     "data": {
      "image/png": "[encoded data removed]",
      "text/plain": [
       "<Figure size 432x288 with 1 Axes>"
      ]
     },
     "metadata": {
      "needs_background": "light"
     },
     "output_type": "display_data"
    }
   ],
   "source": [
    "'''\n",
    "Debug here!\n",
    "'''\n",
    "\n",
    "\n",
    "import pyvips as Vips\n",
    "NP_DTYPE_TO_VIPS_FORMAT = {\n",
    "        np.dtype('int8'): Vips.BandFormat.CHAR,\n",
    "        np.dtype('uint8'): Vips.BandFormat.UCHAR,\n",
    "        np.dtype('int16'): Vips.BandFormat.SHORT,\n",
    "        np.dtype('uint16'): Vips.BandFormat.USHORT,\n",
    "        np.dtype('int32'): Vips.BandFormat.INT,\n",
    "        np.dtype('float32'): Vips.BandFormat.FLOAT,\n",
    "        np.dtype('float64'): Vips.BandFormat.DOUBLE\n",
    "    }\n",
    "\n",
    "VIPS_FORMAT_TO_NP_DTYPE = {v:k for k, v in NP_DTYPE_TO_VIPS_FORMAT.items()}\n",
    "\n",
    "def array_vips(vips_image, verbose=False):\n",
    "    # dtype = np.dtype('u{}'.format(vips_image.BandFmt.bit_length() + 1))\n",
    "    dtype = VIPS_FORMAT_TO_NP_DTYPE[vips_image.format]\n",
    "    if verbose:\n",
    "        print(dtype, vips_image.height, vips_image.width, vips_image.bands)\n",
    "    return (np.fromstring(vips_image.write_to_memory(), dtype=dtype) #np.uint8)\n",
    "             .reshape(vips_image.height, vips_image.width, vips_image.bands)).squeeze()\n",
    "#     return (np.fromstring(vips_image.write_to_memory(), dtype=np.uint8)\n",
    "#              .reshape(vips_image.height, vips_image.width, vips_image.bands)).squeeze()\n",
    "\n",
    "\n",
    "# map vips formats to np dtypes\n",
    "format_to_dtype = {\n",
    "    'uchar': np.uint8,\n",
    "    'char': np.int8,\n",
    "    'ushort': np.uint16,\n",
    "    'short': np.int16,\n",
    "    'uint': np.uint32,\n",
    "    'int': np.int32,\n",
    "    'float': np.float32,\n",
    "    'double': np.float64,\n",
    "    'complex': np.complex64,\n",
    "    'dpcomplex': np.complex128,\n",
    "}\n",
    "\n",
    "# vips image to numpy array\n",
    "def vips2numpy(vi):\n",
    "    return np.ndarray(buffer=vi.write_to_memory(),\n",
    "                      dtype=format_to_dtype[vi.format],\n",
    "                      shape=[vi.height, vi.width, vi.bands])\n",
    "\n",
    "def img_frombytes(data):\n",
    "    size = data.shape[::-1]\n",
    "    databytes = np.packbits(data, axis=1)\n",
    "    return Image.frombytes(mode='1', size=size, data=databytes)\n",
    "\n",
    "vips_resized = vips.resize(0.1)\n",
    "# im_np = array_vips(vips_resized)\n",
    "# print(np.where(im_np != 0))\n",
    "im_np = vips2numpy(vips_resized)\n",
    "plt.imshow(im_np)\n",
    "plt.show()"
   ]
  },
  {
   "cell_type": "code",
   "execution_count": null,
   "id": "1d94254e",
   "metadata": {},
   "outputs": [],
   "source": []
  },
  {
   "cell_type": "code",
   "execution_count": 36,
   "id": "41651f81",
   "metadata": {},
   "outputs": [
    {
     "name": "stdout",
     "output_type": "stream",
     "text": [
      "width: 11541 height: 11668\n"
     ]
    },
    {
     "data": {
      "image/png": "[encoded data removed]",
      "text/plain": [
       "<Figure size 432x288 with 1 Axes>"
      ]
     },
     "metadata": {
      "needs_background": "light"
     },
     "output_type": "display_data"
    }
   ],
   "source": [
    "\"\"\" Resize image down \"\"\"\n",
    "\n",
    "vips_resized = vips.resize(0.1) # 40x magnification --> resize to scale down to 20x \n",
    "\n",
    "width = vips_resized.width\n",
    "height = vips_resized.height\n",
    "print('width:', width, 'height:', height)\n",
    "\n",
    "vips_utils.show_vips(vips_resized)"
   ]
  },
  {
   "cell_type": "code",
   "execution_count": 37,
   "id": "f59230d9",
   "metadata": {},
   "outputs": [
    {
     "name": "stdout",
     "output_type": "stream",
     "text": [
      "scaling factor: 0.1\n"
     ]
    },
    {
     "data": {
      "image/png": "[encoded data removed]",
      "text/plain": [
       "<Figure size 432x288 with 1 Axes>"
      ]
     },
     "metadata": {
      "needs_background": "light"
     },
     "output_type": "display_data"
    }
   ],
   "source": [
    "\"\"\" Draw rectangles where the annotations are \"\"\"\n",
    "\n",
    "vips_resized = vips.resize(0.1) # 40x magnification --> resize to scale down to 20x \n",
    "\n",
    "#scaling_factor = extract_scaling_factor_cz(PATH_NFT, metadata_name)\n",
    "scaling_factor = 0.1\n",
    "\n",
    "print('scaling factor:', scaling_factor)\n",
    "color = [255,0,0]\n",
    "#thumbnail = vips.thumbnail_image(int(float(vips.get(\"width\"))))\n",
    "\n",
    "for i in range(0, len(rectangles)):\n",
    "    coord = rectangles['rectangle_{}'.format(i)]\n",
    "    left = int(float(coord[0])) * scaling_factor\n",
    "    top = int(float(coord[1])) * scaling_factor\n",
    "    width = int(float(coord[2])) * scaling_factor\n",
    "    height = int(float(coord[3])) * scaling_factor\n",
    "    vips_resized = vips_resized.draw_rect(color, left, top, width, height, fill=True)\n",
    "    \n",
    "    \n",
    "vips_utils.show_vips(vips_resized)"
   ]
  },
  {
   "cell_type": "code",
   "execution_count": 20,
   "id": "a34eb75a",
   "metadata": {},
   "outputs": [
    {
     "name": "stdout",
     "output_type": "stream",
     "text": [
      "scaling factor: 0.1\n"
     ]
    },
    {
     "data": {
      "image/png": "[encoded data removed]",
      "text/plain": [
       "<Figure size 432x288 with 1 Axes>"
      ]
     },
     "metadata": {
      "needs_background": "light"
     },
     "output_type": "display_data"
    }
   ],
   "source": [
    "\"\"\" Draw annotations based on the coordinate of the metadata \"\"\"\n",
    "\n",
    "## resize down the image instead of getting the thumbnail- which takes much more time\n",
    "vips_resized = vips.resize(0.1) # 40x magnification --> resize to scale down to 20x \n",
    "\n",
    "#scaling_factor = extract_scaling_factor_cz(PATH_NFT, metadata_name)\n",
    "scaling_factor = 0.1\n",
    "\n",
    "print('scaling factor:', scaling_factor)\n",
    "color = [255,0,0]\n",
    "#thumbnail = vips.thumbnail_image(int(float(vips.get(\"width\"))))\n",
    "\n",
    "for i in range(0, len(annotations)):\n",
    "    coord = annotations['annotation_{}'.format(i)]\n",
    "    x = coord[0]*scaling_factor\n",
    "    y = coord[1]*scaling_factor\n",
    "    #print(x, y)\n",
    "    vips_resized = vips_resized.draw_circle(color, x, y, 50, fill=True)\n",
    "    \n",
    "vips_utils.show_vips(vips_resized)"
   ]
  },
  {
   "cell_type": "code",
   "execution_count": 23,
   "id": "d55cc4d7",
   "metadata": {},
   "outputs": [
    {
     "ename": "AttributeError",
     "evalue": "module 'pyvips' has no attribute 'thumbnail_image'",
     "output_type": "error",
     "traceback": [
      "\u001b[0;31m---------------------------------------------------------------------------\u001b[0m",
      "\u001b[0;31mAttributeError\u001b[0m                            Traceback (most recent call last)",
      "\u001b[0;32m<ipython-input-23-bf1d2b77c515>\u001b[0m in \u001b[0;36m<module>\u001b[0;34m\u001b[0m\n\u001b[1;32m      3\u001b[0m \u001b[0;34m\"\"\" Thumbnail with the right scale \"\"\"\u001b[0m\u001b[0;34m\u001b[0m\u001b[0;34m\u001b[0m\u001b[0m\n\u001b[1;32m      4\u001b[0m \u001b[0;34m\u001b[0m\u001b[0m\n\u001b[0;32m----> 5\u001b[0;31m \u001b[0mthumbnail\u001b[0m \u001b[0;34m=\u001b[0m \u001b[0mpyvips\u001b[0m\u001b[0;34m.\u001b[0m\u001b[0mthumbnail_image\u001b[0m\u001b[0;34m(\u001b[0m\u001b[0mint\u001b[0m\u001b[0;34m(\u001b[0m\u001b[0mfloat\u001b[0m\u001b[0;34m(\u001b[0m\u001b[0mvips\u001b[0m\u001b[0;34m.\u001b[0m\u001b[0mget\u001b[0m\u001b[0;34m(\u001b[0m\u001b[0;34m\"width\"\u001b[0m\u001b[0;34m)\u001b[0m\u001b[0;34m)\u001b[0m\u001b[0;34m)\u001b[0m\u001b[0;34m)\u001b[0m\u001b[0;34m\u001b[0m\u001b[0;34m\u001b[0m\u001b[0m\n\u001b[0m\u001b[1;32m      6\u001b[0m \u001b[0;34m\u001b[0m\u001b[0m\n\u001b[1;32m      7\u001b[0m \u001b[0;31m# thumbnail = pyvips.Image.thumbnail(int(float(vips.get(\"width\"))))\u001b[0m\u001b[0;34m\u001b[0m\u001b[0;34m\u001b[0m\u001b[0;34m\u001b[0m\u001b[0m\n",
      "\u001b[0;31mAttributeError\u001b[0m: module 'pyvips' has no attribute 'thumbnail_image'"
     ]
    }
   ],
   "source": [
    "### Use thumbnail- takes more time \n",
    "\n",
    "\"\"\" Thumbnail with the right scale \"\"\"\n",
    "\n",
    "thumbnail = pyvips.thumbnail_image(int(float(vips.get(\"width\"))))\n",
    "\n",
    "# thumbnail = pyvips.Image.thumbnail(int(float(vips.get(\"width\"))))\n",
    "vips_utils.show_vips(thumbnail)"
   ]
  },
  {
   "cell_type": "code",
   "execution_count": 22,
   "id": "cbb2af67",
   "metadata": {},
   "outputs": [
    {
     "name": "stdout",
     "output_type": "stream",
     "text": [
      "scaling factor: 1\n"
     ]
    },
    {
     "ename": "Error",
     "evalue": "no such operation thumbnail_image\n  VipsOperation: class \"thumbnail_image\" not found\n",
     "output_type": "error",
     "traceback": [
      "\u001b[0;31m---------------------------------------------------------------------------\u001b[0m",
      "\u001b[0;31mError\u001b[0m                                     Traceback (most recent call last)",
      "\u001b[0;32m<ipython-input-22-728522431a14>\u001b[0m in \u001b[0;36m<module>\u001b[0;34m\u001b[0m\n\u001b[1;32m      6\u001b[0m \u001b[0mprint\u001b[0m\u001b[0;34m(\u001b[0m\u001b[0;34m'scaling factor:'\u001b[0m\u001b[0;34m,\u001b[0m \u001b[0mscaling_factor\u001b[0m\u001b[0;34m)\u001b[0m\u001b[0;34m\u001b[0m\u001b[0;34m\u001b[0m\u001b[0m\n\u001b[1;32m      7\u001b[0m \u001b[0mcolor\u001b[0m \u001b[0;34m=\u001b[0m \u001b[0;34m[\u001b[0m\u001b[0;36m255\u001b[0m\u001b[0;34m,\u001b[0m\u001b[0;36m0\u001b[0m\u001b[0;34m,\u001b[0m\u001b[0;36m0\u001b[0m\u001b[0;34m]\u001b[0m\u001b[0;34m\u001b[0m\u001b[0;34m\u001b[0m\u001b[0m\n\u001b[0;32m----> 8\u001b[0;31m \u001b[0mthumbnail\u001b[0m \u001b[0;34m=\u001b[0m \u001b[0mvips\u001b[0m\u001b[0;34m.\u001b[0m\u001b[0mthumbnail_image\u001b[0m\u001b[0;34m(\u001b[0m\u001b[0mint\u001b[0m\u001b[0;34m(\u001b[0m\u001b[0mfloat\u001b[0m\u001b[0;34m(\u001b[0m\u001b[0mvips\u001b[0m\u001b[0;34m.\u001b[0m\u001b[0mget\u001b[0m\u001b[0;34m(\u001b[0m\u001b[0;34m\"width\"\u001b[0m\u001b[0;34m)\u001b[0m\u001b[0;34m)\u001b[0m\u001b[0;34m)\u001b[0m\u001b[0;34m)\u001b[0m\u001b[0;34m\u001b[0m\u001b[0;34m\u001b[0m\u001b[0m\n\u001b[0m\u001b[1;32m      9\u001b[0m \u001b[0;34m\u001b[0m\u001b[0m\n\u001b[1;32m     10\u001b[0m \u001b[0;32mfor\u001b[0m \u001b[0mi\u001b[0m \u001b[0;32min\u001b[0m \u001b[0mrange\u001b[0m\u001b[0;34m(\u001b[0m\u001b[0;36m0\u001b[0m\u001b[0;34m,\u001b[0m \u001b[0mlen\u001b[0m\u001b[0;34m(\u001b[0m\u001b[0mannotations\u001b[0m\u001b[0;34m)\u001b[0m\u001b[0;34m)\u001b[0m\u001b[0;34m:\u001b[0m\u001b[0;34m\u001b[0m\u001b[0;34m\u001b[0m\u001b[0m\n",
      "\u001b[0;32m/usr/local/lib/python3.6/dist-packages/pyvips/vimage.py\u001b[0m in \u001b[0;36mcall_function\u001b[0;34m(*args, **kwargs)\u001b[0m\n\u001b[1;32m    936\u001b[0m         \u001b[0;34m@\u001b[0m\u001b[0m_add_doc\u001b[0m\u001b[0;34m(\u001b[0m\u001b[0mname\u001b[0m\u001b[0;34m)\u001b[0m\u001b[0;34m\u001b[0m\u001b[0;34m\u001b[0m\u001b[0m\n\u001b[1;32m    937\u001b[0m         \u001b[0;32mdef\u001b[0m \u001b[0mcall_function\u001b[0m\u001b[0;34m(\u001b[0m\u001b[0;34m*\u001b[0m\u001b[0margs\u001b[0m\u001b[0;34m,\u001b[0m \u001b[0;34m**\u001b[0m\u001b[0mkwargs\u001b[0m\u001b[0;34m)\u001b[0m\u001b[0;34m:\u001b[0m\u001b[0;34m\u001b[0m\u001b[0;34m\u001b[0m\u001b[0m\n\u001b[0;32m--> 938\u001b[0;31m             \u001b[0;32mreturn\u001b[0m \u001b[0mpyvips\u001b[0m\u001b[0;34m.\u001b[0m\u001b[0mOperation\u001b[0m\u001b[0;34m.\u001b[0m\u001b[0mcall\u001b[0m\u001b[0;34m(\u001b[0m\u001b[0mname\u001b[0m\u001b[0;34m,\u001b[0m \u001b[0mself\u001b[0m\u001b[0;34m,\u001b[0m \u001b[0;34m*\u001b[0m\u001b[0margs\u001b[0m\u001b[0;34m,\u001b[0m \u001b[0;34m**\u001b[0m\u001b[0mkwargs\u001b[0m\u001b[0;34m)\u001b[0m\u001b[0;34m\u001b[0m\u001b[0;34m\u001b[0m\u001b[0m\n\u001b[0m\u001b[1;32m    939\u001b[0m \u001b[0;34m\u001b[0m\u001b[0m\n\u001b[1;32m    940\u001b[0m         \u001b[0;32mreturn\u001b[0m \u001b[0mcall_function\u001b[0m\u001b[0;34m\u001b[0m\u001b[0;34m\u001b[0m\u001b[0m\n",
      "\u001b[0;32m/usr/local/lib/python3.6/dist-packages/pyvips/voperation.py\u001b[0m in \u001b[0;36mcall\u001b[0;34m(operation_name, *args, **kwargs)\u001b[0m\n\u001b[1;32m    232\u001b[0m         \u001b[0;31m#              args, kwargs)\u001b[0m\u001b[0;34m\u001b[0m\u001b[0;34m\u001b[0m\u001b[0;34m\u001b[0m\u001b[0m\n\u001b[1;32m    233\u001b[0m \u001b[0;34m\u001b[0m\u001b[0m\n\u001b[0;32m--> 234\u001b[0;31m         \u001b[0mintro\u001b[0m \u001b[0;34m=\u001b[0m \u001b[0mIntrospect\u001b[0m\u001b[0;34m.\u001b[0m\u001b[0mget\u001b[0m\u001b[0;34m(\u001b[0m\u001b[0moperation_name\u001b[0m\u001b[0;34m)\u001b[0m\u001b[0;34m\u001b[0m\u001b[0;34m\u001b[0m\u001b[0m\n\u001b[0m\u001b[1;32m    235\u001b[0m \u001b[0;34m\u001b[0m\u001b[0m\n\u001b[1;32m    236\u001b[0m         \u001b[0;32mif\u001b[0m \u001b[0mlen\u001b[0m\u001b[0;34m(\u001b[0m\u001b[0mintro\u001b[0m\u001b[0;34m.\u001b[0m\u001b[0mrequired_input\u001b[0m\u001b[0;34m)\u001b[0m \u001b[0;34m!=\u001b[0m \u001b[0mlen\u001b[0m\u001b[0;34m(\u001b[0m\u001b[0margs\u001b[0m\u001b[0;34m)\u001b[0m\u001b[0;34m:\u001b[0m\u001b[0;34m\u001b[0m\u001b[0;34m\u001b[0m\u001b[0m\n",
      "\u001b[0;32m/usr/local/lib/python3.6/dist-packages/pyvips/voperation.py\u001b[0m in \u001b[0;36mget\u001b[0;34m(cls, operation_name)\u001b[0m\n\u001b[1;32m    151\u001b[0m     \u001b[0;32mdef\u001b[0m \u001b[0mget\u001b[0m\u001b[0;34m(\u001b[0m\u001b[0mcls\u001b[0m\u001b[0;34m,\u001b[0m \u001b[0moperation_name\u001b[0m\u001b[0;34m)\u001b[0m\u001b[0;34m:\u001b[0m\u001b[0;34m\u001b[0m\u001b[0;34m\u001b[0m\u001b[0m\n\u001b[1;32m    152\u001b[0m         \u001b[0;32mif\u001b[0m \u001b[0moperation_name\u001b[0m \u001b[0;32mnot\u001b[0m \u001b[0;32min\u001b[0m \u001b[0mcls\u001b[0m\u001b[0;34m.\u001b[0m\u001b[0m_introspect_cache\u001b[0m\u001b[0;34m:\u001b[0m\u001b[0;34m\u001b[0m\u001b[0;34m\u001b[0m\u001b[0m\n\u001b[0;32m--> 153\u001b[0;31m             \u001b[0mcls\u001b[0m\u001b[0;34m.\u001b[0m\u001b[0m_introspect_cache\u001b[0m\u001b[0;34m[\u001b[0m\u001b[0moperation_name\u001b[0m\u001b[0;34m]\u001b[0m \u001b[0;34m=\u001b[0m \u001b[0mIntrospect\u001b[0m\u001b[0;34m(\u001b[0m\u001b[0moperation_name\u001b[0m\u001b[0;34m)\u001b[0m\u001b[0;34m\u001b[0m\u001b[0;34m\u001b[0m\u001b[0m\n\u001b[0m\u001b[1;32m    154\u001b[0m \u001b[0;34m\u001b[0m\u001b[0m\n\u001b[1;32m    155\u001b[0m         \u001b[0;32mreturn\u001b[0m \u001b[0mcls\u001b[0m\u001b[0;34m.\u001b[0m\u001b[0m_introspect_cache\u001b[0m\u001b[0;34m[\u001b[0m\u001b[0moperation_name\u001b[0m\u001b[0;34m]\u001b[0m\u001b[0;34m\u001b[0m\u001b[0;34m\u001b[0m\u001b[0m\n",
      "\u001b[0;32m/usr/local/lib/python3.6/dist-packages/pyvips/voperation.py\u001b[0m in \u001b[0;36m__init__\u001b[0;34m(self, operation_name)\u001b[0m\n\u001b[1;32m     37\u001b[0m \u001b[0;34m\u001b[0m\u001b[0m\n\u001b[1;32m     38\u001b[0m     \u001b[0;32mdef\u001b[0m \u001b[0m__init__\u001b[0m\u001b[0;34m(\u001b[0m\u001b[0mself\u001b[0m\u001b[0;34m,\u001b[0m \u001b[0moperation_name\u001b[0m\u001b[0;34m)\u001b[0m\u001b[0;34m:\u001b[0m\u001b[0;34m\u001b[0m\u001b[0;34m\u001b[0m\u001b[0m\n\u001b[0;32m---> 39\u001b[0;31m         \u001b[0mop\u001b[0m \u001b[0;34m=\u001b[0m \u001b[0mOperation\u001b[0m\u001b[0;34m.\u001b[0m\u001b[0mnew_from_name\u001b[0m\u001b[0;34m(\u001b[0m\u001b[0moperation_name\u001b[0m\u001b[0;34m)\u001b[0m\u001b[0;34m\u001b[0m\u001b[0;34m\u001b[0m\u001b[0m\n\u001b[0m\u001b[1;32m     40\u001b[0m \u001b[0;34m\u001b[0m\u001b[0m\n\u001b[1;32m     41\u001b[0m         \u001b[0mself\u001b[0m\u001b[0;34m.\u001b[0m\u001b[0mdescription\u001b[0m \u001b[0;34m=\u001b[0m \u001b[0mop\u001b[0m\u001b[0;34m.\u001b[0m\u001b[0mget_description\u001b[0m\u001b[0;34m(\u001b[0m\u001b[0;34m)\u001b[0m\u001b[0;34m\u001b[0m\u001b[0;34m\u001b[0m\u001b[0m\n",
      "\u001b[0;32m/usr/local/lib/python3.6/dist-packages/pyvips/voperation.py\u001b[0m in \u001b[0;36mnew_from_name\u001b[0;34m(operation_name)\u001b[0m\n\u001b[1;32m    191\u001b[0m         \u001b[0mvop\u001b[0m \u001b[0;34m=\u001b[0m \u001b[0mvips_lib\u001b[0m\u001b[0;34m.\u001b[0m\u001b[0mvips_operation_new\u001b[0m\u001b[0;34m(\u001b[0m\u001b[0m_to_bytes\u001b[0m\u001b[0;34m(\u001b[0m\u001b[0moperation_name\u001b[0m\u001b[0;34m)\u001b[0m\u001b[0;34m)\u001b[0m\u001b[0;34m\u001b[0m\u001b[0;34m\u001b[0m\u001b[0m\n\u001b[1;32m    192\u001b[0m         \u001b[0;32mif\u001b[0m \u001b[0mvop\u001b[0m \u001b[0;34m==\u001b[0m \u001b[0mffi\u001b[0m\u001b[0;34m.\u001b[0m\u001b[0mNULL\u001b[0m\u001b[0;34m:\u001b[0m\u001b[0;34m\u001b[0m\u001b[0;34m\u001b[0m\u001b[0m\n\u001b[0;32m--> 193\u001b[0;31m             \u001b[0;32mraise\u001b[0m \u001b[0mError\u001b[0m\u001b[0;34m(\u001b[0m\u001b[0;34m'no such operation {0}'\u001b[0m\u001b[0;34m.\u001b[0m\u001b[0mformat\u001b[0m\u001b[0;34m(\u001b[0m\u001b[0moperation_name\u001b[0m\u001b[0;34m)\u001b[0m\u001b[0;34m)\u001b[0m\u001b[0;34m\u001b[0m\u001b[0;34m\u001b[0m\u001b[0m\n\u001b[0m\u001b[1;32m    194\u001b[0m         \u001b[0;32mreturn\u001b[0m \u001b[0mOperation\u001b[0m\u001b[0;34m(\u001b[0m\u001b[0mvop\u001b[0m\u001b[0;34m)\u001b[0m\u001b[0;34m\u001b[0m\u001b[0;34m\u001b[0m\u001b[0m\n\u001b[1;32m    195\u001b[0m \u001b[0;34m\u001b[0m\u001b[0m\n",
      "\u001b[0;31mError\u001b[0m: no such operation thumbnail_image\n  VipsOperation: class \"thumbnail_image\" not found\n"
     ]
    }
   ],
   "source": [
    "\"\"\" Draw annotations based on the coordinate of the metadata \"\"\"\n",
    "\n",
    "#scaling_factor = extract_scaling_factor_cz(PATH_NFT, metadata_name)\n",
    "scaling_factor = 1\n",
    "\n",
    "print('scaling factor:', scaling_factor)\n",
    "color = [255,0,0]\n",
    "thumbnail = vips.thumbnail_image(int(float(vips.get(\"width\"))))\n",
    "\n",
    "for i in range(0, len(annotations)):\n",
    "    coord = annotations['annotation_{}'.format(i)]\n",
    "    x = coord[0]*scaling_factor\n",
    "    y = coord[1]*scaling_factor\n",
    "    #print(x, y)\n",
    "    thumbnail = thumbnail.draw_circle(color, x, y, 50, fill=True)\n",
    "    \n",
    "vips_utils.show_vips(thumbnail)"
   ]
  },
  {
   "cell_type": "code",
   "execution_count": 24,
   "id": "d710036f",
   "metadata": {},
   "outputs": [
    {
     "name": "stdout",
     "output_type": "stream",
     "text": [
      "scaling factor: 1\n"
     ]
    },
    {
     "ename": "AttributeError",
     "evalue": "module 'pyvips' has no attribute 'thumbnail_image'",
     "output_type": "error",
     "traceback": [
      "\u001b[0;31m---------------------------------------------------------------------------\u001b[0m",
      "\u001b[0;31mAttributeError\u001b[0m                            Traceback (most recent call last)",
      "\u001b[0;32m<ipython-input-24-90fed0272d53>\u001b[0m in \u001b[0;36m<module>\u001b[0;34m\u001b[0m\n\u001b[1;32m      6\u001b[0m \u001b[0mprint\u001b[0m\u001b[0;34m(\u001b[0m\u001b[0;34m'scaling factor:'\u001b[0m\u001b[0;34m,\u001b[0m \u001b[0mscaling_factor\u001b[0m\u001b[0;34m)\u001b[0m\u001b[0;34m\u001b[0m\u001b[0;34m\u001b[0m\u001b[0m\n\u001b[1;32m      7\u001b[0m \u001b[0mcolor\u001b[0m \u001b[0;34m=\u001b[0m \u001b[0;34m[\u001b[0m\u001b[0;36m255\u001b[0m\u001b[0;34m,\u001b[0m\u001b[0;36m0\u001b[0m\u001b[0;34m,\u001b[0m\u001b[0;36m0\u001b[0m\u001b[0;34m]\u001b[0m\u001b[0;34m\u001b[0m\u001b[0;34m\u001b[0m\u001b[0m\n\u001b[0;32m----> 8\u001b[0;31m \u001b[0mthumbnail\u001b[0m \u001b[0;34m=\u001b[0m \u001b[0mpyvips\u001b[0m\u001b[0;34m.\u001b[0m\u001b[0mthumbnail_image\u001b[0m\u001b[0;34m(\u001b[0m\u001b[0mint\u001b[0m\u001b[0;34m(\u001b[0m\u001b[0mfloat\u001b[0m\u001b[0;34m(\u001b[0m\u001b[0mvips\u001b[0m\u001b[0;34m.\u001b[0m\u001b[0mget\u001b[0m\u001b[0;34m(\u001b[0m\u001b[0;34m\"width\"\u001b[0m\u001b[0;34m)\u001b[0m\u001b[0;34m)\u001b[0m\u001b[0;34m)\u001b[0m\u001b[0;34m)\u001b[0m\u001b[0;34m\u001b[0m\u001b[0;34m\u001b[0m\u001b[0m\n\u001b[0m\u001b[1;32m      9\u001b[0m \u001b[0;34m\u001b[0m\u001b[0m\n\u001b[1;32m     10\u001b[0m \u001b[0;32mfor\u001b[0m \u001b[0mi\u001b[0m \u001b[0;32min\u001b[0m \u001b[0mrange\u001b[0m\u001b[0;34m(\u001b[0m\u001b[0;36m0\u001b[0m\u001b[0;34m,\u001b[0m \u001b[0mlen\u001b[0m\u001b[0;34m(\u001b[0m\u001b[0mrectangles\u001b[0m\u001b[0;34m)\u001b[0m\u001b[0;34m)\u001b[0m\u001b[0;34m:\u001b[0m\u001b[0;34m\u001b[0m\u001b[0;34m\u001b[0m\u001b[0m\n",
      "\u001b[0;31mAttributeError\u001b[0m: module 'pyvips' has no attribute 'thumbnail_image'"
     ]
    }
   ],
   "source": [
    "\"\"\" Draw rectangles where the annotations are \"\"\"\n",
    "\n",
    "#scaling_factor = extract_scaling_factor_cz(PATH_NFT, metadata_name)\n",
    "scaling_factor = 1\n",
    "\n",
    "print('scaling factor:', scaling_factor)\n",
    "color = [255,0,0]\n",
    "thumbnail = pyvips.thumbnail_image(int(float(vips.get(\"width\"))))\n",
    "\n",
    "for i in range(0, len(rectangles)):\n",
    "    coord = rectangles['rectangle_{}'.format(i)]\n",
    "    left = int(float(coord[0])) * scaling_factor\n",
    "    top = int(float(coord[1])) * scaling_factor\n",
    "    width = int(float(coord[2])) * scaling_factor\n",
    "    height = int(float(coord[3])) * scaling_factor\n",
    "    thumbnail = thumbnail.draw_rect(color, left, top, width, height, fill=True)\n",
    "    \n",
    "    \n",
    "vips_utils.show_vips(thumbnail)"
   ]
  },
  {
   "cell_type": "code",
   "execution_count": null,
   "id": "cf2173ce",
   "metadata": {},
   "outputs": [],
   "source": []
  }
 ],
 "metadata": {
  "kernelspec": {
   "display_name": "Python 3",
   "language": "python",
   "name": "python3"
  },
  "language_info": {
   "codemirror_mode": {
    "name": "ipython",
    "version": 3
   },
   "file_extension": ".py",
   "mimetype": "text/x-python",
   "name": "python",
   "nbconvert_exporter": "python",
   "pygments_lexer": "ipython3",
   "version": "3.7.10"
  }
 },
 "nbformat": 4,
 "nbformat_minor": 5
}

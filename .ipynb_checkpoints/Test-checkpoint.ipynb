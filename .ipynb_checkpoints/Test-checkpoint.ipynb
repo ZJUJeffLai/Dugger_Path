{
 "cells": [
  {
   "cell_type": "code",
   "execution_count": 12,
   "id": "95945cf6",
   "metadata": {},
   "outputs": [],
   "source": [
    "import numpy as np\n",
    "from os import listdir\n",
    "from PIL import Image, ImageDraw\n",
    "import xml.etree.ElementTree as ET \n",
    "import xmltodict\n",
    "import matplotlib.pyplot as plt\n",
    "import matplotlib.image as img\n",
    "import glob\n",
    "import os\n",
    "\n",
    "import pyvips\n",
    "import pylibczi\n",
    "from pylibczi import CziScene\n",
    "import czifile\n",
    "from czifile import CziFile \n",
    "\n",
    "import vips_utils"
   ]
  },
  {
   "cell_type": "code",
   "execution_count": null,
   "id": "5fb9dfa6",
   "metadata": {},
   "outputs": [],
   "source": []
  }
 ],
 "metadata": {
  "kernelspec": {
   "display_name": "Python 3",
   "language": "python",
   "name": "python3"
  },
  "language_info": {
   "codemirror_mode": {
    "name": "ipython",
    "version": 3
   },
   "file_extension": ".py",
   "mimetype": "text/x-python",
   "name": "python",
   "nbconvert_exporter": "python",
   "pygments_lexer": "ipython3",
   "version": "3.6.9"
  }
 },
 "nbformat": 4,
 "nbformat_minor": 5
}
